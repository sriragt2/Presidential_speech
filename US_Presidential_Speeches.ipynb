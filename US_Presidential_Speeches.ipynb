{
 "cells": [
  {
   "cell_type": "markdown",
   "metadata": {},
   "source": [
    "# Analyzing Presidential inaugural speeches"
   ]
  },
  {
   "cell_type": "code",
   "execution_count": 192,
   "metadata": {},
   "outputs": [],
   "source": [
    "import nltk\n",
    "#nltk.download('inaugural')\n",
    "from nltk.corpus import inaugural\n",
    "import pandas as pd\n",
    "import requests\n",
    "from bs4 import BeautifulSoup  \n",
    "from string import punctuation\n",
    "stop_words = nltk.corpus.stopwords.words('english')\n",
    "wordnet = nltk.stem.WordNetLemmatizer()\n",
    "import matplotlib.pyplot as plt\n",
    "from nltk.sentiment.vader import SentimentIntensityAnalyzer\n",
    "analyzer = SentimentIntensityAnalyzer()"
   ]
  },
  {
   "cell_type": "markdown",
   "metadata": {},
   "source": [
    "# Creating a table"
   ]
  },
  {
   "cell_type": "code",
   "execution_count": 141,
   "metadata": {},
   "outputs": [],
   "source": [
    "#\n",
    "year = []\n",
    "name = []\n",
    "text = []\n",
    "for fileid in inaugural.fileids():\n",
    "    year.append(fileid[:4])\n",
    "    name.append(fileid.split('-')[1].split('.')[0])\n",
    "    text.append(inaugural.raw(fileid))\n",
    "name[53]='W.Bush'              #to differentiate G.Bush from G.W.Bush\n",
    "name[54]='W.Bush'\n",
    "name[29]='T.Roosevelt'         #to differentiate T.Roosevelt from F.D.Roosevelt\n",
    "name[2]='J.Adams'              # to differentiate J.Adams from J.Q.Adams\n",
    "name[13]='W.H.Harrison'        # to differentiate W.H.Harrison from B.Harrison\n",
    "\n",
    "df_all = pd.DataFrame(list(zip(year,name,text)),columns = ['Year','Name','Text'])\n",
    "df = df_all.drop_duplicates(subset=['Name'],keep='first')\n",
    "  #\n",
    "df = df.reset_index(drop=True)\n",
    "\n",
    "# for party info I am using web scrapping\n",
    "url = 'https://www.thoughtco.com/presidents-and-vice-presidents-chart-4051729'\n",
    "response = requests.get(url)\n",
    "soup = BeautifulSoup(response.text, 'html.parser')\n",
    "\n",
    "pname = []\n",
    "pparty=[]\n",
    "table = soup.find('tbody')\n",
    "for row in table.find_all('tr'):\n",
    "    cell = row.find_all('td')\n",
    "    pname.append(cell[0].text)\n",
    "    pparty.append(cell[2].text)\n",
    "df_party = pd.DataFrame(list(zip(pname,pparty)),columns=('Name','Party'))\n",
    "df_party = df_party.drop([9,12,16,20,23,37],axis=0)\n",
    "df_party = df_party.reset_index(drop=True)\n",
    "\n",
    "\n",
    "df.loc[:,'Party']=df_party['Party']\n"
   ]
  },
  {
   "cell_type": "code",
   "execution_count": 142,
   "metadata": {},
   "outputs": [],
   "source": [
    "def preprocessing(string):\n",
    "    speech = string.strip(punctuation).lower()\n",
    "    speech = nltk.tokenize.word_tokenize(speech)\n",
    "    words = [w for w in speech if w not in stop_words]\n",
    "    lemm = [wordnet.lemmatize(w) for w in words]\n",
    "    lemm =[w for w in lemm if len(w) > 2]\n",
    "    lemm = [w for w in lemm if w not in ['mr.']]\n",
    "    return lemm\n",
    "    "
   ]
  },
  {
   "cell_type": "code",
   "execution_count": 167,
   "metadata": {},
   "outputs": [
    {
     "data": {
      "text/html": [
       "<div>\n",
       "<style scoped>\n",
       "    .dataframe tbody tr th:only-of-type {\n",
       "        vertical-align: middle;\n",
       "    }\n",
       "\n",
       "    .dataframe tbody tr th {\n",
       "        vertical-align: top;\n",
       "    }\n",
       "\n",
       "    .dataframe thead th {\n",
       "        text-align: right;\n",
       "    }\n",
       "</style>\n",
       "<table border=\"1\" class=\"dataframe\">\n",
       "  <thead>\n",
       "    <tr style=\"text-align: right;\">\n",
       "      <th></th>\n",
       "      <th>Year</th>\n",
       "      <th>Name</th>\n",
       "      <th>Text</th>\n",
       "      <th>Party</th>\n",
       "      <th>Vocab</th>\n",
       "    </tr>\n",
       "  </thead>\n",
       "  <tbody>\n",
       "    <tr>\n",
       "      <th>0</th>\n",
       "      <td>1789</td>\n",
       "      <td>Washington</td>\n",
       "      <td>Fellow-Citizens of the Senate and of the House...</td>\n",
       "      <td>No Party Designation</td>\n",
       "      <td>644</td>\n",
       "    </tr>\n",
       "    <tr>\n",
       "      <th>1</th>\n",
       "      <td>1797</td>\n",
       "      <td>J.Adams</td>\n",
       "      <td>When it was first perceived, in early times, t...</td>\n",
       "      <td>Federalist</td>\n",
       "      <td>1059</td>\n",
       "    </tr>\n",
       "    <tr>\n",
       "      <th>2</th>\n",
       "      <td>1801</td>\n",
       "      <td>Jefferson</td>\n",
       "      <td>Friends and Fellow Citizens:\\n\\nCalled upon to...</td>\n",
       "      <td>Democratic-Republican</td>\n",
       "      <td>804</td>\n",
       "    </tr>\n",
       "    <tr>\n",
       "      <th>3</th>\n",
       "      <td>1809</td>\n",
       "      <td>Madison</td>\n",
       "      <td>Unwilling to depart from examples of the most ...</td>\n",
       "      <td>Democratic-Republican</td>\n",
       "      <td>518</td>\n",
       "    </tr>\n",
       "    <tr>\n",
       "      <th>4</th>\n",
       "      <td>1817</td>\n",
       "      <td>Monroe</td>\n",
       "      <td>I should be destitute of feeling if I was not ...</td>\n",
       "      <td>Democratic-Republican</td>\n",
       "      <td>1536</td>\n",
       "    </tr>\n",
       "  </tbody>\n",
       "</table>\n",
       "</div>"
      ],
      "text/plain": [
       "   Year        Name                                               Text  \\\n",
       "0  1789  Washington  Fellow-Citizens of the Senate and of the House...   \n",
       "1  1797     J.Adams  When it was first perceived, in early times, t...   \n",
       "2  1801   Jefferson  Friends and Fellow Citizens:\\n\\nCalled upon to...   \n",
       "3  1809     Madison  Unwilling to depart from examples of the most ...   \n",
       "4  1817      Monroe  I should be destitute of feeling if I was not ...   \n",
       "\n",
       "                   Party  Vocab  \n",
       "0   No Party Designation    644  \n",
       "1             Federalist   1059  \n",
       "2  Democratic-Republican    804  \n",
       "3  Democratic-Republican    518  \n",
       "4  Democratic-Republican   1536  "
      ]
     },
     "execution_count": 167,
     "metadata": {},
     "output_type": "execute_result"
    }
   ],
   "source": [
    "t=[]\n",
    "for x in range (0,39):\n",
    "    t.append(len(preprocessing(df.at[x,'Text'])))\n",
    "t\n",
    "df.loc[:,'Vocab']=t\n",
    "df.head(5)\n"
   ]
  },
  {
   "cell_type": "markdown",
   "metadata": {},
   "source": [
    "### 1. Which president has the most vocabulary as evident from their inaugural speeches, and which presidents has the least vocabulary? On average, do Democratic or Republican presidents have higher vocabulary?"
   ]
  },
  {
   "cell_type": "code",
   "execution_count": 144,
   "metadata": {},
   "outputs": [
    {
     "name": "stdout",
     "output_type": "stream",
     "text": [
      "President with most vocabulary is \n"
     ]
    },
    {
     "data": {
      "text/html": [
       "<div>\n",
       "<style scoped>\n",
       "    .dataframe tbody tr th:only-of-type {\n",
       "        vertical-align: middle;\n",
       "    }\n",
       "\n",
       "    .dataframe tbody tr th {\n",
       "        vertical-align: top;\n",
       "    }\n",
       "\n",
       "    .dataframe thead th {\n",
       "        text-align: right;\n",
       "    }\n",
       "</style>\n",
       "<table border=\"1\" class=\"dataframe\">\n",
       "  <thead>\n",
       "    <tr style=\"text-align: right;\">\n",
       "      <th></th>\n",
       "      <th>Year</th>\n",
       "      <th>Name</th>\n",
       "      <th>Text</th>\n",
       "      <th>Party</th>\n",
       "      <th>Vocab</th>\n",
       "    </tr>\n",
       "  </thead>\n",
       "  <tbody>\n",
       "    <tr>\n",
       "      <th>8</th>\n",
       "      <td>1841</td>\n",
       "      <td>W.H.Harrison</td>\n",
       "      <td>Called from a retirement which I had supposed ...</td>\n",
       "      <td>Whig</td>\n",
       "      <td>3777</td>\n",
       "    </tr>\n",
       "  </tbody>\n",
       "</table>\n",
       "</div>"
      ],
      "text/plain": [
       "   Year          Name                                               Text  \\\n",
       "8  1841  W.H.Harrison  Called from a retirement which I had supposed ...   \n",
       "\n",
       "  Party  Vocab  \n",
       "8  Whig   3777  "
      ]
     },
     "execution_count": 144,
     "metadata": {},
     "output_type": "execute_result"
    }
   ],
   "source": [
    "print('President with most vocabulary is ')\n",
    "df[df['Vocab']==df['Vocab'].max()]\n",
    "\n"
   ]
  },
  {
   "cell_type": "code",
   "execution_count": 145,
   "metadata": {},
   "outputs": [
    {
     "name": "stdout",
     "output_type": "stream",
     "text": [
      "President with least vocabulary is \n"
     ]
    },
    {
     "data": {
      "text/html": [
       "<div>\n",
       "<style scoped>\n",
       "    .dataframe tbody tr th:only-of-type {\n",
       "        vertical-align: middle;\n",
       "    }\n",
       "\n",
       "    .dataframe tbody tr th {\n",
       "        vertical-align: top;\n",
       "    }\n",
       "\n",
       "    .dataframe thead th {\n",
       "        text-align: right;\n",
       "    }\n",
       "</style>\n",
       "<table border=\"1\" class=\"dataframe\">\n",
       "  <thead>\n",
       "    <tr style=\"text-align: right;\">\n",
       "      <th></th>\n",
       "      <th>Year</th>\n",
       "      <th>Name</th>\n",
       "      <th>Text</th>\n",
       "      <th>Party</th>\n",
       "      <th>Vocab</th>\n",
       "    </tr>\n",
       "  </thead>\n",
       "  <tbody>\n",
       "    <tr>\n",
       "      <th>20</th>\n",
       "      <td>1905</td>\n",
       "      <td>T.Roosevelt</td>\n",
       "      <td>My fellow citizens, no people on earth have mo...</td>\n",
       "      <td>Republican</td>\n",
       "      <td>430</td>\n",
       "    </tr>\n",
       "  </tbody>\n",
       "</table>\n",
       "</div>"
      ],
      "text/plain": [
       "    Year         Name                                               Text  \\\n",
       "20  1905  T.Roosevelt  My fellow citizens, no people on earth have mo...   \n",
       "\n",
       "         Party  Vocab  \n",
       "20  Republican    430  "
      ]
     },
     "execution_count": 145,
     "metadata": {},
     "output_type": "execute_result"
    }
   ],
   "source": [
    "print('President with least vocabulary is ')\n",
    "df[df['Vocab']==df['Vocab'].min()]"
   ]
  },
  {
   "cell_type": "code",
   "execution_count": 146,
   "metadata": {},
   "outputs": [
    {
     "data": {
      "text/html": [
       "<div>\n",
       "<style scoped>\n",
       "    .dataframe tbody tr th:only-of-type {\n",
       "        vertical-align: middle;\n",
       "    }\n",
       "\n",
       "    .dataframe tbody tr th {\n",
       "        vertical-align: top;\n",
       "    }\n",
       "\n",
       "    .dataframe thead th {\n",
       "        text-align: right;\n",
       "    }\n",
       "</style>\n",
       "<table border=\"1\" class=\"dataframe\">\n",
       "  <thead>\n",
       "    <tr style=\"text-align: right;\">\n",
       "      <th></th>\n",
       "      <th>Vocab</th>\n",
       "    </tr>\n",
       "    <tr>\n",
       "      <th>Party</th>\n",
       "      <th></th>\n",
       "    </tr>\n",
       "  </thead>\n",
       "  <tbody>\n",
       "    <tr>\n",
       "      <th>Democratic</th>\n",
       "      <td>1070.571429</td>\n",
       "    </tr>\n",
       "    <tr>\n",
       "      <th>Democratic-Republican</th>\n",
       "      <td>1052.250000</td>\n",
       "    </tr>\n",
       "    <tr>\n",
       "      <th>Federalist</th>\n",
       "      <td>1059.000000</td>\n",
       "    </tr>\n",
       "    <tr>\n",
       "      <th>No Party Designation</th>\n",
       "      <td>644.000000</td>\n",
       "    </tr>\n",
       "    <tr>\n",
       "      <th>Republican</th>\n",
       "      <td>1323.187500</td>\n",
       "    </tr>\n",
       "    <tr>\n",
       "      <th>Union</th>\n",
       "      <td>1612.000000</td>\n",
       "    </tr>\n",
       "    <tr>\n",
       "      <th>Whig</th>\n",
       "      <td>2146.000000</td>\n",
       "    </tr>\n",
       "  </tbody>\n",
       "</table>\n",
       "</div>"
      ],
      "text/plain": [
       "                             Vocab\n",
       "Party                             \n",
       "Democratic             1070.571429\n",
       "Democratic-Republican  1052.250000\n",
       "Federalist             1059.000000\n",
       "No Party Designation    644.000000\n",
       "Republican             1323.187500\n",
       "Union                  1612.000000\n",
       "Whig                   2146.000000"
      ]
     },
     "execution_count": 146,
     "metadata": {},
     "output_type": "execute_result"
    }
   ],
   "source": [
    "df.groupby('Party').mean()"
   ]
  },
  {
   "cell_type": "markdown",
   "metadata": {},
   "source": [
    "Among Democrats and Republicans, on an average Republicans have higher vocabulary."
   ]
  },
  {
   "cell_type": "markdown",
   "metadata": {},
   "source": [
    "### 2. Creating a barplot of presidential vocabulary from the earliest president (Washington) to the latest (Trump) in this sample of 44 presidents (excluding stop words)."
   ]
  },
  {
   "cell_type": "code",
   "execution_count": 169,
   "metadata": {},
   "outputs": [
    {
     "data": {
      "text/plain": [
       "<matplotlib.axes._subplots.AxesSubplot at 0x2bcc7bc2be0>"
      ]
     },
     "execution_count": 169,
     "metadata": {},
     "output_type": "execute_result"
    },
    {
     "data": {
      "image/png": "[encoded data removed]",
      "text/plain": [
       "<Figure size 1080x432 with 1 Axes>"
      ]
     },
     "metadata": {
      "needs_background": "light"
     },
     "output_type": "display_data"
    }
   ],
   "source": [
    "colors = []\n",
    "for x in range (0,39):\n",
    "    k = df.at[x,'Party']\n",
    "    if(k=='Democratic'):\n",
    "        colors.append('b')\n",
    "    elif(k=='Republican'):\n",
    "        colors.append('r')\n",
    "    else:\n",
    "        colors.append('g')\n",
    "    \n",
    "df.plot.bar(x='Name',y='Vocab',rot=90,figsize=(15,6),color = colors,legend = None)"
   ]
  },
  {
   "cell_type": "markdown",
   "metadata": {},
   "source": [
    "### 3. 5 words (exclusive of stop words) used most frequently by each president? Do Democratic presidents use a different set of words than Republican presidents? "
   ]
  },
  {
   "cell_type": "code",
   "execution_count": 156,
   "metadata": {},
   "outputs": [
    {
     "name": "stdout",
     "output_type": "stream",
     "text": [
      "Washington \t ['fellow-citizens', 'senate', 'house', 'representative', 'among']\n",
      "J.Adams \t ['first', 'perceived', 'early', 'time', 'middle']\n",
      "Jefferson \t ['friend', 'fellow', 'citizen', 'called', 'upon']\n",
      "Madison \t ['unwilling', 'depart', 'example', 'revered', 'authority']\n",
      "Monroe \t ['destitute', 'feeling', 'deeply', 'affected', 'strong']\n",
      "Adams \t ['compliance', 'usage', 'coeval', 'existence', 'federal']\n",
      "Jackson \t ['fellow', 'citizen', 'undertake', 'arduous', 'duty']\n",
      "VanBuren \t ['fellow', 'citizen', 'practice', 'predecessor', 'imposes']\n",
      "W.H.Harrison \t ['called', 'retirement', 'supposed', 'continue', 'residue']\n",
      "Polk \t ['fellow', 'citizen', 'without', 'solicitation', 'part']\n",
      "Taylor \t ['elected', 'american', 'people', 'highest', 'office']\n",
      "Pierce \t ['countryman', 'relief', 'feel', 'heart', 'know']\n",
      "Buchanan \t ['fellow', 'citizen', 'appear', 'day', 'take']\n",
      "Lincoln \t ['fellow-citizens', 'united', 'state', 'compliance', 'custom']\n",
      "Grant \t ['citizen', 'united', 'state', 'suffrage', 'elected']\n",
      "Hayes \t ['fellow', 'citizen', 'assembled', 'repeat', 'public']\n",
      "Garfield \t ['fellow-citizens', 'stand', 'to-day', 'upon', 'eminence']\n",
      "Cleveland \t ['fellow', 'citizen', 'presence', 'vast', 'assemblage']\n",
      "Harrison \t ['fellow-citizens', 'constitutional', 'legal', 'requirement', 'president']\n",
      "McKinley \t ['fellow', 'citizen', 'obedience', 'people', 'presence']\n",
      "T.Roosevelt \t ['fellow', 'citizen', 'people', 'earth', 'cause']\n",
      "Taft \t ['fellow', 'citizen', 'anyone', 'taken', 'oath']\n",
      "Wilson \t ['change', 'government', 'began', 'two', 'year']\n",
      "Harding \t ['countryman', 'one', 'survey', 'world', 'great']\n",
      "Coolidge \t ['countryman', 'one', 'contemplate', 'current', 'condition']\n",
      "Hoover \t ['countryman', 'occasion', 'alone', 'administration', 'sacred']\n",
      "Roosevelt \t ['certain', 'fellow', 'american', 'expect', 'induction']\n",
      "Truman \t ['vice', 'president', 'chief', 'justice', 'fellow']\n",
      "Eisenhower \t ['friend', 'begin', 'expression', 'thought', 'deem']\n",
      "Kennedy \t ['vice', 'president', 'johnson', 'speaker', 'chief']\n",
      "Johnson \t ['fellow', 'countryman', 'occasion', 'oath', 'taken']\n",
      "Nixon \t ['senator', 'dirksen', 'chief', 'justice', 'vice']\n",
      "Carter \t ['nation', 'want', 'thank', 'predecessor', 'done']\n",
      "Reagan \t ['senator', 'hatfield', 'chief', 'justice', 'president']\n",
      "Bush \t ['chief', 'justice', 'president', 'vice', 'quayle']\n",
      "Clinton \t ['fellow', 'citizen', 'today', 'celebrate', 'mystery']\n",
      "W.Bush \t ['president', 'clinton', 'distinguished', 'guest', 'fellow']\n",
      "Obama \t ['fellow', 'citizen', 'stand', 'today', 'humbled']\n",
      "Trump \t ['chief', 'justice', 'robert', 'president', 'carter']\n"
     ]
    }
   ],
   "source": [
    "demo = []\n",
    "rep = []\n",
    "for x in range(0,39):\n",
    "    fd = nltk.FreqDist(preprocessing(df.at[x,'Text']))\n",
    "    print('{} \\t {}'.format(df.at[x,'Name'],(list(fd.keys())[0:5])))\n",
    "    if(df.at[x,'Party']=='Democratic'):\n",
    "        demo.extend((list(fd.keys())[0:5]))\n",
    "    elif(df.at[x,'Party']=='Republican'):\n",
    "        rep.extend((list(fd.keys())[0:5]))"
   ]
  },
  {
   "cell_type": "code",
   "execution_count": 165,
   "metadata": {},
   "outputs": [
    {
     "name": "stdout",
     "output_type": "stream",
     "text": [
      "Of the words used by Democrats and Republicans 11.54 % words are same\n"
     ]
    }
   ],
   "source": [
    "count=0\n",
    "fd2 = nltk.FreqDist(demo)\n",
    "fd3 = nltk.FreqDist(rep)\n",
    "for x in list(fd2.keys()):\n",
    "    for y in list(fd3.keys()):\n",
    "        if(x==y):\n",
    "            count += 1\n",
    "sum = len(fd2)+len(fd3)\n",
    "print('Of the words used by Democrats and Republicans {:.2f} % words are same'.format((count/sum)*100))"
   ]
  },
  {
   "cell_type": "markdown",
   "metadata": {},
   "source": [
    "### 4. Computing a sentiment (positive/negative) for each president."
   ]
  },
  {
   "cell_type": "code",
   "execution_count": 191,
   "metadata": {},
   "outputs": [
    {
     "data": {
      "text/html": [
       "<div>\n",
       "<style scoped>\n",
       "    .dataframe tbody tr th:only-of-type {\n",
       "        vertical-align: middle;\n",
       "    }\n",
       "\n",
       "    .dataframe tbody tr th {\n",
       "        vertical-align: top;\n",
       "    }\n",
       "\n",
       "    .dataframe thead th {\n",
       "        text-align: right;\n",
       "    }\n",
       "</style>\n",
       "<table border=\"1\" class=\"dataframe\">\n",
       "  <thead>\n",
       "    <tr style=\"text-align: right;\">\n",
       "      <th></th>\n",
       "      <th>Year</th>\n",
       "      <th>Name</th>\n",
       "      <th>Text</th>\n",
       "      <th>Party</th>\n",
       "      <th>Vocab</th>\n",
       "      <th>Sentiment</th>\n",
       "    </tr>\n",
       "  </thead>\n",
       "  <tbody>\n",
       "    <tr>\n",
       "      <th>0</th>\n",
       "      <td>1789</td>\n",
       "      <td>Washington</td>\n",
       "      <td>Fellow-Citizens of the Senate and of the House...</td>\n",
       "      <td>No Party Designation</td>\n",
       "      <td>644</td>\n",
       "      <td>4.88</td>\n",
       "    </tr>\n",
       "    <tr>\n",
       "      <th>1</th>\n",
       "      <td>1797</td>\n",
       "      <td>J.Adams</td>\n",
       "      <td>When it was first perceived, in early times, t...</td>\n",
       "      <td>Federalist</td>\n",
       "      <td>1059</td>\n",
       "      <td>5.27</td>\n",
       "    </tr>\n",
       "    <tr>\n",
       "      <th>2</th>\n",
       "      <td>1801</td>\n",
       "      <td>Jefferson</td>\n",
       "      <td>Friends and Fellow Citizens:\\n\\nCalled upon to...</td>\n",
       "      <td>Democratic-Republican</td>\n",
       "      <td>804</td>\n",
       "      <td>2.72</td>\n",
       "    </tr>\n",
       "    <tr>\n",
       "      <th>3</th>\n",
       "      <td>1809</td>\n",
       "      <td>Madison</td>\n",
       "      <td>Unwilling to depart from examples of the most ...</td>\n",
       "      <td>Democratic-Republican</td>\n",
       "      <td>518</td>\n",
       "      <td>3.37</td>\n",
       "    </tr>\n",
       "    <tr>\n",
       "      <th>4</th>\n",
       "      <td>1817</td>\n",
       "      <td>Monroe</td>\n",
       "      <td>I should be destitute of feeling if I was not ...</td>\n",
       "      <td>Democratic-Republican</td>\n",
       "      <td>1536</td>\n",
       "      <td>3.88</td>\n",
       "    </tr>\n",
       "  </tbody>\n",
       "</table>\n",
       "</div>"
      ],
      "text/plain": [
       "   Year        Name                                               Text  \\\n",
       "0  1789  Washington  Fellow-Citizens of the Senate and of the House...   \n",
       "1  1797     J.Adams  When it was first perceived, in early times, t...   \n",
       "2  1801   Jefferson  Friends and Fellow Citizens:\\n\\nCalled upon to...   \n",
       "3  1809     Madison  Unwilling to depart from examples of the most ...   \n",
       "4  1817      Monroe  I should be destitute of feeling if I was not ...   \n",
       "\n",
       "                   Party  Vocab  Sentiment  \n",
       "0   No Party Designation    644       4.88  \n",
       "1             Federalist   1059       5.27  \n",
       "2  Democratic-Republican    804       2.72  \n",
       "3  Democratic-Republican    518       3.37  \n",
       "4  Democratic-Republican   1536       3.88  "
      ]
     },
     "execution_count": 191,
     "metadata": {},
     "output_type": "execute_result"
    }
   ],
   "source": [
    "sent=[]\n",
    "for x in range (0,39):\n",
    "    k=(analyzer.polarity_scores(df.at[x,'Text']))\n",
    "    p=(k['pos'])/(k['neg'])\n",
    "    sent.append(round(p,2))\n",
    "df.loc[:,'Sentiment']=sent\n",
    "df.head(5)\n"
   ]
  },
  {
   "cell_type": "code",
   "execution_count": 209,
   "metadata": {},
   "outputs": [
    {
     "data": {
      "image/png": "[encoded data removed]",
      "text/plain": [
       "<Figure size 1080x432 with 2 Axes>"
      ]
     },
     "metadata": {
      "needs_background": "light"
     },
     "output_type": "display_data"
    }
   ],
   "source": [
    "group = df.groupby('Party')\n",
    "demo=group.get_group('Democratic')\n",
    "repo=group.get_group('Republican')\n",
    "fig, (ax, ax2) = plt.subplots(ncols=2,)\n",
    "demo.plot.bar(x='Name',y='Sentiment',figsize=(15,6), legend=False,ax=ax)\n",
    "ax.set_title('Democratic')\n",
    "repo.plot.bar(x='Name',y='Sentiment',figsize=(15,6),color = 'r', legend=False,ax=ax2)\n",
    "ax2.set_title('Republican')\n",
    "plt.show()"
   ]
  },
  {
   "cell_type": "markdown",
   "metadata": {},
   "source": [
    "Highest positive sentiment:\n",
    "\n",
    "Democrats:\n",
    "1.Jackson\n",
    "2.Cleveland\n",
    "3.Truman\n",
    "\n",
    "Republicans:\n",
    "1.Hayes\n",
    "2.Grant\n",
    "3.Bush"
   ]
  },
  {
   "cell_type": "code",
   "execution_count": 213,
   "metadata": {},
   "outputs": [
    {
     "name": "stdout",
     "output_type": "stream",
     "text": [
      "Democrats mean \n",
      " Year         1.306560e+54\n",
      "Vocab        1.070571e+03\n",
      "Sentiment    2.792143e+00\n",
      "dtype: float64 \n",
      "Republican mean \n",
      " Year         1.168242e+62\n",
      "Vocab        1.323188e+03\n",
      "Sentiment    3.067500e+00\n",
      "dtype: float64 \n",
      "Republicans have highest mean positive sentiment score.\n"
     ]
    }
   ],
   "source": [
    "print('Democrats mean \\n {} '.format(demo.mean()))\n",
    "print('Republican mean \\n {} '.format(repo.mean()))\n",
    "print('Republicans have highest mean positive sentiment score.')"
   ]
  },
  {
   "cell_type": "code",
   "execution_count": 216,
   "metadata": {},
   "outputs": [],
   "source": [
    "dff =df.drop(columns='Text') \n",
    "dff.to_csv(r'Presidential_Speeches.csv',index = None,header=True)\n"
   ]
  },
  {
   "cell_type": "code",
   "execution_count": null,
   "metadata": {},
   "outputs": [],
   "source": []
  }
 ],
 "metadata": {
  "kernelspec": {
   "display_name": "Python 3",
   "language": "python",
   "name": "python3"
  },
  "language_info": {
   "codemirror_mode": {
    "name": "ipython",
    "version": 3
   },
   "file_extension": ".py",
   "mimetype": "text/x-python",
   "name": "python",
   "nbconvert_exporter": "python",
   "pygments_lexer": "ipython3",
   "version": "3.6.8"
  }
 },
 "nbformat": 4,
 "nbformat_minor": 2
}
